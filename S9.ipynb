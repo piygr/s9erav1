{
 "cells": [
  {
   "cell_type": "code",
   "execution_count": 1,
   "metadata": {},
   "outputs": [
    {
     "name": "stdout",
     "output_type": "stream",
     "text": [
      "CUDA Available? False\n"
     ]
    },
    {
     "ename": "ImportError",
     "evalue": "cannot import name 'plot_incorrect_pred' from 'utils' (/Users/piyushgrover/Workspace/erav1/s9erav1/utils.py)",
     "traceback": [
      "\u001b[0;31m---------------------------------------------------------------------------\u001b[0m",
      "\u001b[0;31mImportError\u001b[0m                               Traceback (most recent call last)",
      "Cell \u001b[0;32mIn[1], line 2\u001b[0m\n\u001b[1;32m      1\u001b[0m \u001b[38;5;28;01mimport\u001b[39;00m \u001b[38;5;21;01mtorch\u001b[39;00m\u001b[38;5;21;01m.\u001b[39;00m\u001b[38;5;21;01moptim\u001b[39;00m \u001b[38;5;28;01mas\u001b[39;00m \u001b[38;5;21;01moptim\u001b[39;00m\n\u001b[0;32m----> 2\u001b[0m \u001b[38;5;28;01mfrom\u001b[39;00m \u001b[38;5;21;01mutils\u001b[39;00m \u001b[38;5;28;01mimport\u001b[39;00m torch, cuda, plot_dataset_sample, test, train, plot_model_performance, plot_incorrect_pred, test_accs\n\u001b[1;32m      3\u001b[0m \u001b[38;5;28;01mfrom\u001b[39;00m \u001b[38;5;21;01mdataset\u001b[39;00m \u001b[38;5;28;01mimport\u001b[39;00m get_loader, dataset_mean, dataset_std\n\u001b[1;32m      4\u001b[0m \u001b[38;5;28;01mfrom\u001b[39;00m \u001b[38;5;21;01mmodel\u001b[39;00m \u001b[38;5;28;01mimport\u001b[39;00m nn, S9Model\n",
      "\u001b[0;31mImportError\u001b[0m: cannot import name 'plot_incorrect_pred' from 'utils' (/Users/piyushgrover/Workspace/erav1/s9erav1/utils.py)"
     ],
     "output_type": "error"
    }
   ],
   "source": [
    "import torch.optim as optim\n",
    "from utils import torch, cuda, plot_dataset_sample, test, train, plot_model_performance, test_acc\n",
    "from dataset import get_loader, dataset_mean, dataset_std\n",
    "from model import nn, S9Model\n",
    "from torchsummary import summary"
   ]
  },
  {
   "cell_type": "code",
   "execution_count": 2,
   "metadata": {},
   "outputs": [
    {
     "name": "stdout",
     "output_type": "stream",
     "text": [
      "Files already downloaded and verified\n",
      "Files already downloaded and verified\n",
      "Files already downloaded and verified\n"
     ]
    }
   ],
   "source": [
    "batch_size = 64\n",
    "\n",
    "kwargs = {'batch_size': batch_size, 'shuffle': True, 'num_workers': 2, 'pin_memory': True}\n",
    "\n",
    "train_loader, test_loader = get_loader(**kwargs)\n"
   ]
  },
  {
   "cell_type": "code",
   "execution_count": 5,
   "metadata": {},
   "outputs": [
    {
     "name": "stderr",
     "output_type": "stream",
     "text": [
      "Clipping input data to the valid range for imshow with RGB data ([0..1] for floats or [0..255] for integers).\n",
      "Clipping input data to the valid range for imshow with RGB data ([0..1] for floats or [0..255] for integers).\n",
      "Clipping input data to the valid range for imshow with RGB data ([0..1] for floats or [0..255] for integers).\n"
     ]
    },
    {
     "data": {
      "image/png": "[encoded data removed]",
      "text/plain": [
       "<Figure size 640x480 with 3 Axes>"
      ]
     },
     "metadata": {},
     "output_type": "display_data"
    }
   ],
   "source": [
    "plot_dataset_sample(train_loader, dataset_mean, dataset_std)"
   ]
  },
  {
   "cell_type": "code",
   "execution_count": 6,
   "metadata": {},
   "outputs": [
    {
     "name": "stdout",
     "output_type": "stream",
     "text": [
      "----------------------------------------------------------------\n",
      "        Layer (type)               Output Shape         Param #\n",
      "================================================================\n",
      "            Conv2d-1           [-1, 16, 32, 32]             448\n",
      "       BatchNorm2d-2           [-1, 16, 32, 32]              32\n",
      "         Dropout2d-3           [-1, 16, 32, 32]               0\n",
      "            Conv2d-4           [-1, 16, 32, 32]           2,320\n",
      "       BatchNorm2d-5           [-1, 16, 32, 32]              32\n",
      "         Dropout2d-6           [-1, 16, 32, 32]               0\n",
      "            Conv2d-7           [-1, 16, 32, 32]           2,320\n",
      "       BatchNorm2d-8           [-1, 16, 32, 32]              32\n",
      "         Dropout2d-9           [-1, 16, 32, 32]               0\n",
      "           Conv2d-10           [-1, 16, 32, 32]             160\n",
      "           Conv2d-11           [-1, 32, 32, 32]             544\n",
      "      BatchNorm2d-12           [-1, 32, 32, 32]              64\n",
      "        Dropout2d-13           [-1, 32, 32, 32]               0\n",
      "           Conv2d-14           [-1, 32, 32, 32]           9,248\n",
      "      BatchNorm2d-15           [-1, 32, 32, 32]              64\n",
      "        Dropout2d-16           [-1, 32, 32, 32]               0\n",
      "           Conv2d-17           [-1, 32, 16, 16]           9,248\n",
      "      BatchNorm2d-18           [-1, 32, 16, 16]              64\n",
      "        Dropout2d-19           [-1, 32, 16, 16]               0\n",
      "           Conv2d-20           [-1, 32, 16, 16]             320\n",
      "           Conv2d-21           [-1, 64, 16, 16]           2,112\n",
      "      BatchNorm2d-22           [-1, 64, 16, 16]             128\n",
      "        Dropout2d-23           [-1, 64, 16, 16]               0\n",
      "           Conv2d-24           [-1, 64, 16, 16]          36,928\n",
      "      BatchNorm2d-25           [-1, 64, 16, 16]             128\n",
      "        Dropout2d-26           [-1, 64, 16, 16]               0\n",
      "           Conv2d-27             [-1, 64, 8, 8]          36,928\n",
      "      BatchNorm2d-28             [-1, 64, 8, 8]             128\n",
      "        Dropout2d-29             [-1, 64, 8, 8]               0\n",
      "           Conv2d-30             [-1, 32, 8, 8]          18,464\n",
      "      BatchNorm2d-31             [-1, 32, 8, 8]              64\n",
      "        Dropout2d-32             [-1, 32, 8, 8]               0\n",
      "           Conv2d-33             [-1, 32, 8, 8]           9,248\n",
      "      BatchNorm2d-34             [-1, 32, 8, 8]              64\n",
      "        Dropout2d-35             [-1, 32, 8, 8]               0\n",
      "           Conv2d-36             [-1, 32, 6, 6]           9,248\n",
      "        AvgPool2d-37             [-1, 32, 1, 1]               0\n",
      "           Conv2d-38             [-1, 10, 1, 1]             330\n",
      "================================================================\n",
      "Total params: 138,666\n",
      "Trainable params: 138,666\n",
      "Non-trainable params: 0\n",
      "----------------------------------------------------------------\n",
      "Input size (MB): 0.01\n",
      "Forward/backward pass size (MB): 3.95\n",
      "Params size (MB): 0.53\n",
      "Estimated Total Size (MB): 4.49\n",
      "----------------------------------------------------------------\n"
     ]
    }
   ],
   "source": [
    "device = torch.device(\"cuda\" if cuda else \"cpu\")\n",
    "model = S9Model(16, norm='bn').to(device)\n",
    "summary(model, input_size=(3, 32, 32))"
   ]
  },
  {
   "cell_type": "code",
   "execution_count": null,
   "metadata": {},
   "outputs": [
    {
     "name": "stdout",
     "output_type": "stream",
     "text": [
      "Adjusting learning rate of group 0 to 1.0000e-02.\n",
      "Epoch 1\n"
     ]
    },
    {
     "name": "stderr",
     "output_type": "stream",
     "text": [
      "Train: Loss=1.6695 Batch_id=781 Accuracy=33.17: 100%|██████████| 782/782 [05:15<00:00,  2.48it/s]\n"
     ]
    },
    {
     "name": "stdout",
     "output_type": "stream",
     "text": [
      "Test set: Average loss: 1.4663, Accuracy: 4604/10000 (46.04%)\n",
      "\n",
      "Adjusting learning rate of group 0 to 1.0000e-02.\n",
      "Epoch 2\n"
     ]
    },
    {
     "name": "stderr",
     "output_type": "stream",
     "text": [
      "Train: Loss=1.2274 Batch_id=781 Accuracy=45.22: 100%|██████████| 782/782 [07:08<00:00,  1.83it/s]\n"
     ]
    },
    {
     "name": "stdout",
     "output_type": "stream",
     "text": [
      "Test set: Average loss: 1.2511, Accuracy: 5464/10000 (54.64%)\n",
      "\n",
      "Adjusting learning rate of group 0 to 1.0000e-02.\n",
      "Epoch 3\n"
     ]
    },
    {
     "name": "stderr",
     "output_type": "stream",
     "text": [
      "Train: Loss=1.2745 Batch_id=781 Accuracy=50.91: 100%|██████████| 782/782 [30:13<00:00,  2.32s/it]  \n"
     ]
    },
    {
     "name": "stdout",
     "output_type": "stream",
     "text": [
      "Test set: Average loss: 1.0173, Accuracy: 6357/10000 (63.57%)\n",
      "\n",
      "Adjusting learning rate of group 0 to 1.0000e-02.\n",
      "Epoch 4\n"
     ]
    },
    {
     "name": "stderr",
     "output_type": "stream",
     "text": [
      "Train: Loss=1.9031 Batch_id=781 Accuracy=54.39: 100%|██████████| 782/782 [05:56<00:00,  2.19it/s]\n"
     ]
    },
    {
     "name": "stdout",
     "output_type": "stream",
     "text": [
      "Test set: Average loss: 1.0302, Accuracy: 6318/10000 (63.18%)\n",
      "\n",
      "Adjusting learning rate of group 0 to 1.0000e-02.\n",
      "Epoch 5\n"
     ]
    },
    {
     "name": "stderr",
     "output_type": "stream",
     "text": [
      "Train: Loss=1.3898 Batch_id=781 Accuracy=57.39: 100%|██████████| 782/782 [06:35<00:00,  1.98it/s]\n"
     ]
    },
    {
     "name": "stdout",
     "output_type": "stream",
     "text": [
      "Test set: Average loss: 0.9318, Accuracy: 6757/10000 (67.57%)\n",
      "\n",
      "Adjusting learning rate of group 0 to 1.0000e-02.\n",
      "Epoch 6\n"
     ]
    },
    {
     "name": "stderr",
     "output_type": "stream",
     "text": [
      "Train: Loss=1.3250 Batch_id=781 Accuracy=59.65: 100%|██████████| 782/782 [06:07<00:00,  2.13it/s]\n"
     ]
    },
    {
     "name": "stdout",
     "output_type": "stream",
     "text": [
      "Test set: Average loss: 0.8957, Accuracy: 6870/10000 (68.70%)\n",
      "\n",
      "Adjusting learning rate of group 0 to 1.0000e-02.\n",
      "Epoch 7\n"
     ]
    },
    {
     "name": "stderr",
     "output_type": "stream",
     "text": [
      "Train: Loss=1.6495 Batch_id=781 Accuracy=61.30: 100%|██████████| 782/782 [05:57<00:00,  2.19it/s]\n"
     ]
    },
    {
     "name": "stdout",
     "output_type": "stream",
     "text": [
      "Test set: Average loss: 0.8549, Accuracy: 6985/10000 (69.85%)\n",
      "\n",
      "Adjusting learning rate of group 0 to 1.0000e-03.\n",
      "Epoch 8\n"
     ]
    },
    {
     "name": "stderr",
     "output_type": "stream",
     "text": [
      "Train: Loss=1.2462 Batch_id=165 Accuracy=63.73:  21%|██        | 166/782 [01:24<04:21,  2.36it/s]"
     ]
    }
   ],
   "source": [
    "optimizer = optim.SGD(model.parameters(), lr=0.01, momentum=0.9)\n",
    "#scheduler = optim.lr_scheduler.StepLR(optimizer, step_size=7, gamma=0.1, verbose=True)\n",
    "# New Line\n",
    "scheduler = optim.lr_scheduler.ReduceLROnPlateau(optimizer, 'max', patience=1, threshold=0.001, threshold_mode='abs', eps=0.001, verbose=True)\n",
    "criterion = nn.CrossEntropyLoss()\n",
    "num_epochs = 100\n",
    "\n",
    "for epoch in range(1, num_epochs+1):\n",
    "  print(f'Epoch {epoch}')\n",
    "  train(model, device, train_loader, optimizer, criterion)\n",
    "  test(model, device, test_loader, criterion)\n",
    "  scheduler.step(test_acc[-1]*0.01)\n",
    "  \n",
    "#plot_incorrect_preds(dataset_mean, dataset_std, 15)"
   ]
  },
  {
   "cell_type": "code",
   "execution_count": null,
   "metadata": {},
   "outputs": [],
   "source": [
    "plot_model_performance()"
   ]
  }
 ],
 "metadata": {
  "kernelspec": {
   "display_name": "Python 3 (ipykernel)",
   "language": "python",
   "name": "python3"
  },
  "language_info": {
   "codemirror_mode": {
    "name": "ipython",
    "version": 3
   },
   "file_extension": ".py",
   "mimetype": "text/x-python",
   "name": "python",
   "nbconvert_exporter": "python",
   "pygments_lexer": "ipython3",
   "version": "3.8.5"
  }
 },
 "nbformat": 4,
 "nbformat_minor": 1
}
